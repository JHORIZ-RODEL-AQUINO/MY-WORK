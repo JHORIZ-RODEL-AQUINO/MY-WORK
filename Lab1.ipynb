{
  "nbformat": 4,
  "nbformat_minor": 0,
  "metadata": {
    "colab": {
      "name": "Lab1.ipynb",
      "provenance": [],
      "authorship_tag": "ABX9TyOyC006nSleHBREV5wWvdwA",
      "include_colab_link": true
    },
    "kernelspec": {
      "name": "python3",
      "display_name": "Python 3"
    },
    "language_info": {
      "name": "python"
    }
  },
  "cells": [
    {
      "cell_type": "markdown",
      "metadata": {
        "id": "view-in-github",
        "colab_type": "text"
      },
      "source": [
        "<a href=\"https://colab.research.google.com/github/JHORIZ-RODEL-AQUINO/CPEN-21A-CPE-1-2/blob/main/Lab1.ipynb\" target=\"_parent\"><img src=\"https://colab.research.google.com/assets/colab-badge.svg\" alt=\"Open In Colab\"/></a>"
      ]
    },
    {
      "cell_type": "markdown",
      "metadata": {
        "id": "KVd766dC2HqN"
      },
      "source": [
        "###Laboratory 1"
      ]
    },
    {
      "cell_type": "code",
      "metadata": {
        "colab": {
          "base_uri": "https://localhost:8080/"
        },
        "id": "yDP0MvU42W8E",
        "outputId": "1492b2c9-a846-402b-f0ca-63f0d67ed3a1"
      },
      "source": [
        "print(\"Welcome to Python Programming\")"
      ],
      "execution_count": 9,
      "outputs": [
        {
          "output_type": "stream",
          "name": "stdout",
          "text": [
            "Welcome to Python Programming\n"
          ]
        }
      ]
    },
    {
      "cell_type": "code",
      "metadata": {
        "colab": {
          "base_uri": "https://localhost:8080/"
        },
        "id": "xtOoqyE93_AT",
        "outputId": "8e1f0e57-d557-4c76-eb09-78af3af4f0da"
      },
      "source": [
        "name = \"Jhoriz Rodel F. Aquino\"\n",
        "address = \"Block 16 Lot 95 Cedar 3 Lantic Carmona, Cavite\"\n",
        "age = 19\n",
        "\n",
        "print(\"Name: \" + name)\n",
        "print(\"Address: \" + address)\n",
        "print(\"Age:\", age)\n",
        "print(\"\")\n",
        "print(\"\")\n",
        "print(\"Hi! I am \" + name + \". I live in \" + address + \", and I've been in this world for\", age, \"years.\") #used it in a SENTENCE"
      ],
      "execution_count": 15,
      "outputs": [
        {
          "output_type": "stream",
          "name": "stdout",
          "text": [
            "Name: Jhoriz Rodel F. Aquino\n",
            "Address: Block 16 Lot 95 Cedar 3 Lantic Carmona, Cavite\n",
            "Age: 19\n",
            "\n",
            "\n",
            "Hi! I am Jhoriz Rodel F. Aquino. I live in Block 16 Lot 95 Cedar 3 Lantic Carmona, Cavite, and I've been in this world for 19 years.\n"
          ]
        }
      ]
    }
  ]
}